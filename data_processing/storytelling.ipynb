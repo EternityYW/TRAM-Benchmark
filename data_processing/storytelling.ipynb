{
 "cells": [
  {
   "cell_type": "code",
   "execution_count": null,
   "metadata": {},
   "outputs": [],
   "source": [
    "import pandas as pd\n",
    "import spacy\n",
    "import torch\n",
    "from transformers import GPT2LMHeadModel, GPT2Tokenizer\n",
    "\n",
    "# Load the SpaCy language model\n",
    "nlp = spacy.load(\"en_core_web_sm\")"
   ]
  },
  {
   "cell_type": "code",
   "execution_count": null,
   "metadata": {},
   "outputs": [],
   "source": [
    "# generate wrong endings\n",
    "!pip install transformers\n",
    "\n",
    "tokenizer = GPT2Tokenizer.from_pretrained(\"gpt2-large\")\n",
    "model = GPT2LMHeadModel.from_pretrained(\"gpt2-large\")\n",
    "device = torch.device(\"cuda\" if torch.cuda.is_available() else \"cpu\")\n",
    "model.to(device)\n",
    "\n",
    "data = pd.read_csv('temporal_roc.csv')\n",
    "\n",
    "def generate_wrong_ending(story, prompt_for_wrong_ending):\n",
    "    input_text = story + prompt_for_wrong_ending\n",
    "    input_ids = tokenizer.encode(input_text, return_tensors='pt').to(device)\n",
    "    output = model.generate(input_ids, max_length=120, num_return_sequences=1, temperature=1.0, pad_token_id=tokenizer.eos_token_id)\n",
    "    output_text = tokenizer.decode(output[0], skip_special_tokens=True)\n",
    "\n",
    "    first_sentence = output_text[len(input_text):].split('.')[0] + '.'\n",
    "\n",
    "    if len(first_sentence.split(' ')) < 4:\n",
    "        first_sentence = output_text[len(input_text):].split('.')[1] + '.'\n",
    "        \n",
    "    return first_sentence\n",
    "\n",
    "# Define a prompt for generating wrong endings\n",
    "prompt_for_wrong_ending = \"Unexpectedly,\"\n",
    "\n",
    "data['wrong_ending'] = data['story'].apply(lambda x: generate_wrong_ending(x, prompt_for_wrong_ending))"
   ]
  },
  {
   "cell_type": "code",
   "execution_count": null,
   "metadata": {},
   "outputs": [],
   "source": [
    "df1 = pd.read_csv(\"v1.csv\")\n",
    "df2 = pd.read_csv(\"v2.csv\")\n",
    "df3 = pd.read_csv(\"v3.csv\")"
   ]
  },
  {
   "cell_type": "code",
   "execution_count": null,
   "metadata": {},
   "outputs": [],
   "source": [
    "df = pd.concat([df1, df2, df3], ignore_index=True)"
   ]
  },
  {
   "cell_type": "code",
   "execution_count": null,
   "metadata": {},
   "outputs": [],
   "source": [
    "df = df.drop_duplicates(subset=['InputStoryid'])"
   ]
  },
  {
   "cell_type": "code",
   "execution_count": null,
   "metadata": {},
   "outputs": [],
   "source": [
    "def is_temporal_story(story):\n",
    "    temporal_keywords = [\n",
    "    'before', 'after', 'recently', 'now', 'then', \n",
    "    'yesterday', 'tomorrow', 'earlier', 'later', \n",
    "    'today', 'tonight', 'soon', 'later', 'nowadays',\n",
    "    'currently', 'presently', 'eventually', 'ultimately', \n",
    "    'suddenly', 'immediately', 'momentarily', 'previously', \n",
    "    'formerly', 'periodically', 'seasonally', 'monthly', \n",
    "    'weekly', 'daily', 'hourly', 'annually', 'biennially',\n",
    "    'century', 'decade', 'millennium', 'future', 'past',\n",
    "    'time', 'minute', 'hour', 'day', 'week', 'month', 'year',\n",
    "    'morning', 'noon', 'evening', 'night', 'moment', 'instant', \n",
    "    'duration', 'temporarily', 'intermittently', 'frequently',\n",
    "    'always', 'never', 'sometimes', 'often', 'rarely', 'usually'\n",
    "    ]\n",
    "\n",
    "    temporal_verbs = [\n",
    "    'begin', 'begins', 'began',\n",
    "    'end', 'ends', 'ended',\n",
    "    'start', 'starts', 'started',\n",
    "    'finish', 'finishes', 'finished',\n",
    "    'last', 'lasts', 'lasted',\n",
    "    'continue', 'continues', 'continued',\n",
    "    'commence', 'commences', 'commenced',\n",
    "    'cease', 'ceases', 'ceased',\n",
    "    'resume', 'resumes', 'resumed',\n",
    "    'expire', 'expires', 'expired',\n",
    "    'linger', 'lingers', 'lingered',\n",
    "    'elapse', 'elapses', 'elapsed',\n",
    "    'postpone', 'postpones', 'postponed',\n",
    "    'procrastinate', 'procrastinates', 'procrastinated'\n",
    "    ]\n",
    "\n",
    "    \n",
    "    for sentence in story:\n",
    "        doc = nlp(sentence)\n",
    "        \n",
    "        # Check for temporal keywords and verbs in the sentence\n",
    "        if any(token.text.lower() in temporal_keywords for token in doc) or any(token.lemma_.lower() in temporal_verbs for token in doc):\n",
    "            return True\n",
    "        \n",
    "        # Check for temporal named entities\n",
    "        if any(ent.label_ in [\"DATE\", \"TIME\"] for ent in doc.ents):\n",
    "            return True\n",
    "        \n",
    "    return False"
   ]
  },
  {
   "cell_type": "code",
   "execution_count": null,
   "metadata": {},
   "outputs": [],
   "source": [
    "temporal_stories = df[df[['InputSentence1', 'InputSentence2', 'InputSentence3', 'InputSentence4']].apply(lambda x: is_temporal_story(x), axis=1)]"
   ]
  },
  {
   "cell_type": "code",
   "execution_count": null,
   "metadata": {},
   "outputs": [],
   "source": [
    "def capitalize_first_letter(text):\n",
    "    if text and isinstance(text, str):\n",
    "        text = text.strip()\n",
    "        return text[0].capitalize() + text[1:]\n",
    "    return text\n",
    "\n",
    "concatenated_df['wrong_ending'] = concatenated_df['wrong_ending'].apply(capitalize_first_letter)"
   ]
  }
 ],
 "metadata": {
  "kernelspec": {
   "display_name": "Python 3",
   "language": "python",
   "name": "python3"
  },
  "language_info": {
   "codemirror_mode": {
    "name": "ipython",
    "version": 3
   },
   "file_extension": ".py",
   "mimetype": "text/x-python",
   "name": "python",
   "nbconvert_exporter": "python",
   "pygments_lexer": "ipython3",
   "version": "3.7.6"
  },
  "toc": {
   "base_numbering": 1,
   "nav_menu": {},
   "number_sections": true,
   "sideBar": true,
   "skip_h1_title": false,
   "title_cell": "Table of Contents",
   "title_sidebar": "Contents",
   "toc_cell": false,
   "toc_position": {},
   "toc_section_display": true,
   "toc_window_display": false
  },
  "varInspector": {
   "cols": {
    "lenName": 16,
    "lenType": 16,
    "lenVar": 40
   },
   "kernels_config": {
    "python": {
     "delete_cmd_postfix": "",
     "delete_cmd_prefix": "del ",
     "library": "var_list.py",
     "varRefreshCmd": "print(var_dic_list())"
    },
    "r": {
     "delete_cmd_postfix": ") ",
     "delete_cmd_prefix": "rm(",
     "library": "var_list.r",
     "varRefreshCmd": "cat(var_dic_list()) "
    }
   },
   "types_to_exclude": [
    "module",
    "function",
    "builtin_function_or_method",
    "instance",
    "_Feature"
   ],
   "window_display": false
  }
 },
 "nbformat": 4,
 "nbformat_minor": 4
}
